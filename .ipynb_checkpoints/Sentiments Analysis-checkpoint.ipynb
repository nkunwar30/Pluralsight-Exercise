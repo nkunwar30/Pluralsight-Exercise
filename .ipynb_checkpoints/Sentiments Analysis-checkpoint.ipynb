{
 "cells": [
  {
   "cell_type": "markdown",
   "id": "529f3900",
   "metadata": {},
   "source": [
    "# Extract sentiment from the text using \"TextBlob\" library from python\n",
    "- Import libraries to be used in the guide"
   ]
  },
  {
   "cell_type": "code",
   "execution_count": 4,
   "id": "940b7753",
   "metadata": {},
   "outputs": [],
   "source": [
    "import numpy as np\n",
    "import pandas as pd"
   ]
  },
  {
   "cell_type": "code",
   "execution_count": 5,
   "id": "a3fd6ebe",
   "metadata": {},
   "outputs": [],
   "source": [
    "from textblob import TextBlob, Word, Blobber"
   ]
  },
  {
   "cell_type": "code",
   "execution_count": 9,
   "id": "675b2058",
   "metadata": {},
   "outputs": [],
   "source": [
    "test_text = 'I am going very high these days with cloud'"
   ]
  },
  {
   "cell_type": "code",
   "execution_count": 10,
   "id": "42d4c512",
   "metadata": {},
   "outputs": [],
   "source": [
    "text = TextBlob(test_text)"
   ]
  },
  {
   "cell_type": "code",
   "execution_count": 12,
   "id": "ee90677c",
   "metadata": {},
   "outputs": [
    {
     "name": "stdout",
     "output_type": "stream",
     "text": [
      "Sentiment(polarity=0.20800000000000002, subjectivity=0.702)\n"
     ]
    }
   ],
   "source": [
    "print(text.sentiment)"
   ]
  },
  {
   "cell_type": "markdown",
   "id": "87eb638f",
   "metadata": {},
   "source": [
    "## Polarirty and Subjectivity are two variables that indicates intensity of sentiments (between -1 to 1) and subjectivity (0,1) between FACTUAL and PUBLIC"
   ]
  },
  {
   "cell_type": "markdown",
   "id": "f80dd14f",
   "metadata": {},
   "source": [
    "# Setting up App on Twitter \n",
    "- API Key: w3xSlQDZZ2WZqrerDwhPXKi6S\n",
    "- API Secret Key: R9SleyaBwYRPn6IlpJftK2POzKO4q66DK60ZhvT93cW5IE7hNr\n",
    "- Bearer Token: AAAAAAAAAAAAAAAAAAAAAKcLVQEAAAAAHBiG6qbMsm4jyhb%2BdHe9eJWmXUs%3DsDF7CQmg04Mtt7hd8XZIJWU4nFUqqnGtvvNfb2EZEMdMVa5FcR\n",
    "- Access Token: 1356094712-gesHPFmaaWV2aOxc8pV5l9Rybbg0T1rgpidvpYB\n",
    "- Access Token Secret:4Dfj3m0L45PGElJMwggAMq8dYZYZEcIaREGjnSupCZPSr"
   ]
  },
  {
   "cell_type": "code",
   "execution_count": null,
   "id": "ea8b90ef",
   "metadata": {},
   "outputs": [],
   "source": []
  },
  {
   "cell_type": "code",
   "execution_count": null,
   "id": "b7f1c4d9",
   "metadata": {},
   "outputs": [],
   "source": []
  },
  {
   "cell_type": "code",
   "execution_count": null,
   "id": "3a94aa78",
   "metadata": {},
   "outputs": [],
   "source": []
  }
 ],
 "metadata": {
  "kernelspec": {
   "display_name": "Python 3",
   "language": "python",
   "name": "python3"
  },
  "language_info": {
   "codemirror_mode": {
    "name": "ipython",
    "version": 3
   },
   "file_extension": ".py",
   "mimetype": "text/x-python",
   "name": "python",
   "nbconvert_exporter": "python",
   "pygments_lexer": "ipython3",
   "version": "3.8.8"
  }
 },
 "nbformat": 4,
 "nbformat_minor": 5
}
